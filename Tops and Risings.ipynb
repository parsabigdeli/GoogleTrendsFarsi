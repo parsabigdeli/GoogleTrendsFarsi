{
 "cells": [
  {
   "cell_type": "code",
   "execution_count": null,
   "id": "2d2071b7",
   "metadata": {},
   "outputs": [],
   "source": [
    "import pprint\n",
    "from googleapiclient.discovery import build\n",
    "import matplotlib.pyplot as plt\n",
    "import pandas as pd\n",
    "from tqdm import tqdm"
   ]
  },
  {
   "cell_type": "code",
   "execution_count": null,
   "id": "c0d2aa83",
   "metadata": {},
   "outputs": [],
   "source": [
    "def rising_queries(keyword,start_date,end_date,region):\n",
    "    # Get rising queries:\n",
    "    response = service.getRisingQueries(term = keyword ,\n",
    "                              restrictions_startDate=start_date,\n",
    "                              restrictions_endDate=end_date,\n",
    "                             restrictions_geo=region).execute()\n",
    "    # Cleaning data\n",
    "    cleaned_dic = list(response.values())[0]\n",
    "    points = cleaned_dic\n",
    "    # Converting to a dataest\n",
    "    df = pd.DataFrame(points)\n",
    "    \n",
    "    return df\n",
    "    \n",
    "    "
   ]
  },
  {
   "cell_type": "code",
   "execution_count": null,
   "id": "56b1707b",
   "metadata": {},
   "outputs": [],
   "source": [
    "def rising_topics(keyword,start_date,end_date,region):\n",
    "    # Get rising topics:\n",
    "    response2 = service.getRisingTopics(term = keyword ,\n",
    "                              restrictions_startDate=start_date,\n",
    "                              restrictions_endDate=end_date,\n",
    "                             restrictions_geo=region).execute()\n",
    "    # Cleaning data\n",
    "    cleaned_dic2 = list(response2.values())[0]\n",
    "    points2 = cleaned_dic2\n",
    "    # Converting to a dataest\n",
    "    df2 = pd.DataFrame(points2)\n",
    "    \n",
    "    return df2"
   ]
  },
  {
   "cell_type": "code",
   "execution_count": null,
   "id": "7fa30e7c",
   "metadata": {},
   "outputs": [],
   "source": [
    "def top_queries(keyword,start_date,end_date,region):\n",
    "    # Get top queries:\n",
    "    response3 = service.getTopQueries(term = keyword ,\n",
    "                              restrictions_startDate=start_date,\n",
    "                              restrictions_endDate=end_date,\n",
    "                             restrictions_geo=region).execute()\n",
    "    # Cleaning data\n",
    "    cleaned_dic3 = list(response3.values())[0]\n",
    "    points3 = cleaned_dic3\n",
    "    # Converting to a dataest\n",
    "    df3 = pd.DataFrame(points3)\n",
    "    \n",
    "    return df3"
   ]
  },
  {
   "cell_type": "code",
   "execution_count": null,
   "id": "987651e7",
   "metadata": {},
   "outputs": [],
   "source": [
    "def top_topics(keyword,start_date,end_date,region):\n",
    "    # Get top topics:\n",
    "    response4 = service.getTopQueries(term = keyword ,\n",
    "                              restrictions_startDate=start_date,\n",
    "                              restrictions_endDate=end_date,\n",
    "                             restrictions_geo=region).execute()\n",
    "    # Cleaning data\n",
    "    cleaned_dic4 = list(response4.values())[0]\n",
    "    points4 = cleaned_dic4\n",
    "    # Converting to a dataest\n",
    "    df4 = pd.DataFrame(points4)\n",
    "    \n",
    "    return df4"
   ]
  },
  {
   "cell_type": "code",
   "execution_count": null,
   "id": "2f412cb1",
   "metadata": {},
   "outputs": [],
   "source": [
    "def provinces_rising_q():\n",
    "    \n",
    "    # Create a region dictionary for provinces\n",
    "    provinces = {\n",
    "  'IR-32' : 'Alborz' \n",
    ", 'IR-03' : 'Ardabil'\n",
    ", 'IR-02' :\t'Azarbayjan-e Gharbi'\n",
    ", 'IR-01' :\t'Azarbayjan-e Sharqi'\n",
    ", 'IR-06' :\t'Bushehr'\n",
    ", 'IR-08' :\t'Chahar Mahal va Bakhtiari'\n",
    ", 'IR-04' :\t'Esfahan'\n",
    ", 'IR-14' :\t'Fars'\n",
    ", 'IR-19' :\t'Gilan'\n",
    ", 'IR-27' :\t'Golestan'\n",
    ", 'IR-24' :\t'Hamadan'\n",
    ", 'IR-23' :\t'Hormozgan'\n",
    ", 'IR-05' :\t'Ilam'\n",
    ", 'IR-15' :\t'Kerman'\n",
    ", 'IR-17' :\t'Kermanshah'\n",
    ", 'IR-29' :\t'Khorasan-e Jonubi'\n",
    ", 'IR-30' :\t'Khorasan-e Razavi'\n",
    ", 'IR-31' :\t'Khorasan-e Shomali'\n",
    ", 'IR-10' :\t'Khuzestan'\n",
    ", 'IR-18' :\t'Kohgiluyeh va Bowyer Ahmad'\n",
    ", 'IR-16' :\t'Kordestan'\n",
    ", 'IR-20' :\t'Lorestan'\n",
    ", 'IR-22' :\t'Markazi'\n",
    ", 'IR-21' :\t'Mazandaran'\n",
    ", 'IR-28' :\t'Qazvin'\n",
    ", 'IR-26' :\t'Qom'\n",
    ", 'IR-12' :\t'Semnan'\n",
    ", 'IR-13' :\t'Sistan va Baluchestan'\n",
    ", 'IR-07' :\t'Tehran'\n",
    ", 'IR-25' :\t'Yazd'\n",
    ", 'IR-11' :\t'Zanjan'\n",
    "}\n",
    "    # create a list of datasets for all of the provinces\n",
    "    province_dfs = []\n",
    "    for i in tqdm(range(len(provinces))):\n",
    "        region = list(provinces.keys())[i]\n",
    "        province_dfs.append(rising_queries(keyword,start_date,end_date,region))\n",
    "    \n",
    "    # Concatenate the data frames into a single data frame\n",
    "    merged_df = pd.concat(province_dfs, keys = list(provinces.values()))\n",
    "    #merged_df = province_dfs[0].append( province_dfs[1:])\n",
    "\n",
    "    # Reset the index to separate the province names from the date\n",
    "    merged_df = merged_df.reset_index(level=0).rename(columns={'level_0': 'Province'})\n",
    "\n",
    "\n",
    "    # Return the combined data frame\n",
    "    return  merged_df  \n",
    "    "
   ]
  },
  {
   "cell_type": "code",
   "execution_count": null,
   "id": "8f6890db",
   "metadata": {},
   "outputs": [],
   "source": [
    "def provinces_rising_t():\n",
    "    \n",
    "    # Create a region dictionary for provinces\n",
    "    provinces = {\n",
    "  'IR-32' : 'Alborz' \n",
    ", 'IR-03' : 'Ardabil'\n",
    ", 'IR-02' :\t'Azarbayjan-e Gharbi'\n",
    ", 'IR-01' :\t'Azarbayjan-e Sharqi'\n",
    ", 'IR-06' :\t'Bushehr'\n",
    ", 'IR-08' :\t'Chahar Mahal va Bakhtiari'\n",
    ", 'IR-04' :\t'Esfahan'\n",
    ", 'IR-14' :\t'Fars'\n",
    ", 'IR-19' :\t'Gilan'\n",
    ", 'IR-27' :\t'Golestan'\n",
    ", 'IR-24' :\t'Hamadan'\n",
    ", 'IR-23' :\t'Hormozgan'\n",
    ", 'IR-05' :\t'Ilam'\n",
    ", 'IR-15' :\t'Kerman'\n",
    ", 'IR-17' :\t'Kermanshah'\n",
    ", 'IR-29' :\t'Khorasan-e Jonubi'\n",
    ", 'IR-30' :\t'Khorasan-e Razavi'\n",
    ", 'IR-31' :\t'Khorasan-e Shomali'\n",
    ", 'IR-10' :\t'Khuzestan'\n",
    ", 'IR-18' :\t'Kohgiluyeh va Bowyer Ahmad'\n",
    ", 'IR-16' :\t'Kordestan'\n",
    ", 'IR-20' :\t'Lorestan'\n",
    ", 'IR-22' :\t'Markazi'\n",
    ", 'IR-21' :\t'Mazandaran'\n",
    ", 'IR-28' :\t'Qazvin'\n",
    ", 'IR-26' :\t'Qom'\n",
    ", 'IR-12' :\t'Semnan'\n",
    ", 'IR-13' :\t'Sistan va Baluchestan'\n",
    ", 'IR-07' :\t'Tehran'\n",
    ", 'IR-25' :\t'Yazd'\n",
    ", 'IR-11' :\t'Zanjan'\n",
    "}\n",
    "    # create a list of datasets for all of the provinces\n",
    "    province_dfs = []\n",
    "    for i in tqdm(range(len(provinces))):\n",
    "        region = list(provinces.keys())[i]\n",
    "        province_dfs.append(rising_topics(keyword,start_date,end_date,region))\n",
    "    \n",
    "    # Concatenate the data frames into a single data frame\n",
    "    merged_df = pd.concat(province_dfs, keys = list(provinces.values()))\n",
    "    #merged_df = province_dfs[0].append( province_dfs[1:])\n",
    "\n",
    "    # Reset the index to separate the province names from the date\n",
    "    merged_df = merged_df.reset_index(level=0).rename(columns={'level_0': 'Province'})\n",
    "\n",
    "\n",
    "    # Return the combined data frame\n",
    "    return  merged_df  \n",
    "    "
   ]
  },
  {
   "cell_type": "code",
   "execution_count": null,
   "id": "af133a45",
   "metadata": {},
   "outputs": [],
   "source": [
    "def provinces_top_q():\n",
    "    \n",
    "    # Create a region dictionary for provinces\n",
    "    provinces = {\n",
    "  'IR-32' : 'Alborz' \n",
    ", 'IR-03' : 'Ardabil'\n",
    ", 'IR-02' :\t'Azarbayjan-e Gharbi'\n",
    ", 'IR-01' :\t'Azarbayjan-e Sharqi'\n",
    ", 'IR-06' :\t'Bushehr'\n",
    ", 'IR-08' :\t'Chahar Mahal va Bakhtiari'\n",
    ", 'IR-04' :\t'Esfahan'\n",
    ", 'IR-14' :\t'Fars'\n",
    ", 'IR-19' :\t'Gilan'\n",
    ", 'IR-27' :\t'Golestan'\n",
    ", 'IR-24' :\t'Hamadan'\n",
    ", 'IR-23' :\t'Hormozgan'\n",
    ", 'IR-05' :\t'Ilam'\n",
    ", 'IR-15' :\t'Kerman'\n",
    ", 'IR-17' :\t'Kermanshah'\n",
    ", 'IR-29' :\t'Khorasan-e Jonubi'\n",
    ", 'IR-30' :\t'Khorasan-e Razavi'\n",
    ", 'IR-31' :\t'Khorasan-e Shomali'\n",
    ", 'IR-10' :\t'Khuzestan'\n",
    ", 'IR-18' :\t'Kohgiluyeh va Bowyer Ahmad'\n",
    ", 'IR-16' :\t'Kordestan'\n",
    ", 'IR-20' :\t'Lorestan'\n",
    ", 'IR-22' :\t'Markazi'\n",
    ", 'IR-21' :\t'Mazandaran'\n",
    ", 'IR-28' :\t'Qazvin'\n",
    ", 'IR-26' :\t'Qom'\n",
    ", 'IR-12' :\t'Semnan'\n",
    ", 'IR-13' :\t'Sistan va Baluchestan'\n",
    ", 'IR-07' :\t'Tehran'\n",
    ", 'IR-25' :\t'Yazd'\n",
    ", 'IR-11' :\t'Zanjan'\n",
    "}\n",
    "    # create a list of datasets for all of the provinces\n",
    "    province_dfs = []\n",
    "    for i in tqdm(range(len(provinces))):\n",
    "        region = list(provinces.keys())[i]\n",
    "        province_dfs.append(top_queries(keyword,start_date,end_date,region))\n",
    "    \n",
    "    # Concatenate the data frames into a single data frame\n",
    "    merged_df = pd.concat(province_dfs, keys = list(provinces.values()))\n",
    "    #merged_df = province_dfs[0].append( province_dfs[1:])\n",
    "\n",
    "    # Reset the index to separate the province names from the date\n",
    "    merged_df = merged_df.reset_index(level=0).rename(columns={'level_0': 'Province'})\n",
    "\n",
    "\n",
    "    # Return the combined data frame\n",
    "    return  merged_df  \n",
    "    "
   ]
  },
  {
   "cell_type": "code",
   "execution_count": null,
   "id": "38248c5f",
   "metadata": {},
   "outputs": [],
   "source": [
    "def provinces_top_t():\n",
    "    \n",
    "    # Create a region dictionary for provinces\n",
    "    provinces = {\n",
    "  'IR-32' : 'Alborz' \n",
    ", 'IR-03' : 'Ardabil'\n",
    ", 'IR-02' :\t'Azarbayjan-e Gharbi'\n",
    ", 'IR-01' :\t'Azarbayjan-e Sharqi'\n",
    ", 'IR-06' :\t'Bushehr'\n",
    ", 'IR-08' :\t'Chahar Mahal va Bakhtiari'\n",
    ", 'IR-04' :\t'Esfahan'\n",
    ", 'IR-14' :\t'Fars'\n",
    ", 'IR-19' :\t'Gilan'\n",
    ", 'IR-27' :\t'Golestan'\n",
    ", 'IR-24' :\t'Hamadan'\n",
    ", 'IR-23' :\t'Hormozgan'\n",
    ", 'IR-05' :\t'Ilam'\n",
    ", 'IR-15' :\t'Kerman'\n",
    ", 'IR-17' :\t'Kermanshah'\n",
    ", 'IR-29' :\t'Khorasan-e Jonubi'\n",
    ", 'IR-30' :\t'Khorasan-e Razavi'\n",
    ", 'IR-31' :\t'Khorasan-e Shomali'\n",
    ", 'IR-10' :\t'Khuzestan'\n",
    ", 'IR-18' :\t'Kohgiluyeh va Bowyer Ahmad'\n",
    ", 'IR-16' :\t'Kordestan'\n",
    ", 'IR-20' :\t'Lorestan'\n",
    ", 'IR-22' :\t'Markazi'\n",
    ", 'IR-21' :\t'Mazandaran'\n",
    ", 'IR-28' :\t'Qazvin'\n",
    ", 'IR-26' :\t'Qom'\n",
    ", 'IR-12' :\t'Semnan'\n",
    ", 'IR-13' :\t'Sistan va Baluchestan'\n",
    ", 'IR-07' :\t'Tehran'\n",
    ", 'IR-25' :\t'Yazd'\n",
    ", 'IR-11' :\t'Zanjan'\n",
    "}\n",
    "    # create a list of datasets for all of the provinces\n",
    "    province_dfs = []\n",
    "    for i in tqdm(range(len(provinces))):\n",
    "        region = list(provinces.keys())[i]\n",
    "        province_dfs.append(top_topics(keyword,start_date,end_date,region))\n",
    "    \n",
    "    # Concatenate the data frames into a single data frame\n",
    "    merged_df = pd.concat(province_dfs, keys = list(provinces.values()))\n",
    "    #merged_df = province_dfs[0].append( province_dfs[1:])\n",
    "\n",
    "    # Reset the index to separate the province names from the date\n",
    "    merged_df = merged_df.reset_index(level=0).rename(columns={'level_0': 'Province'})\n",
    "\n",
    "\n",
    "    # Return the combined data frame\n",
    "    return  merged_df  \n",
    "    "
   ]
  },
  {
   "cell_type": "code",
   "execution_count": null,
   "id": "92b9134e",
   "metadata": {},
   "outputs": [],
   "source": [
    "SERVER = 'https://trends.googleapis.com'\n",
    "API_VERSION = 'v1beta'\n",
    "DISCOVERY_URL_SUFFIX = '/$discovery/rest?version=' + API_VERSION\n",
    "DISCOVERY_URL = SERVER + DISCOVERY_URL_SUFFIX\n",
    "developerKey='Place your API Key in here'"
   ]
  },
  {
   "cell_type": "code",
   "execution_count": null,
   "id": "48d0c7e2",
   "metadata": {},
   "outputs": [],
   "source": [
    "service = build('trends', 'v1beta',\n",
    "                  developerKey=developerKey,\n",
    "                  discoveryServiceUrl=DISCOVERY_URL)"
   ]
  },
  {
   "cell_type": "code",
   "execution_count": null,
   "id": "bbadf65e",
   "metadata": {},
   "outputs": [],
   "source": [
    "# Place your search queries in here\n",
    "keyword = ''\n",
    "# In case you don't have a keyword, just leave the '' empty.\n",
    "start_date = '2022-05'\n",
    "end_date = ''\n",
    "# In case the end date is today, just leave the '' empty.\n",
    " # Geo takes any of the values depicted here:\n",
    "  #   http://en.wikipedia.org/wiki/ISO_3166-2#Current_codes\n",
    "  # For Iran's provinces : http://www.statoids.com/uir.html\n",
    "region = 'IR'\n"
   ]
  },
  {
   "cell_type": "markdown",
   "id": "25b329ac",
   "metadata": {},
   "source": [
    "## Rising Queries"
   ]
  },
  {
   "cell_type": "code",
   "execution_count": null,
   "id": "0c853a99",
   "metadata": {},
   "outputs": [],
   "source": [
    "df = rising_queries(keyword,start_date,end_date,region)\n",
    "df"
   ]
  },
  {
   "cell_type": "code",
   "execution_count": null,
   "id": "c5cefb0f",
   "metadata": {},
   "outputs": [],
   "source": [
    "# Save to CSV\n",
    "df.to_csv(f'ntnl_rsng_qurry_{start_date}.csv')"
   ]
  },
  {
   "cell_type": "markdown",
   "id": "6da21080",
   "metadata": {},
   "source": [
    "## Rising Topics"
   ]
  },
  {
   "cell_type": "code",
   "execution_count": null,
   "id": "bc2208f7",
   "metadata": {},
   "outputs": [],
   "source": [
    "df = rising_topics(keyword,start_date,end_date,region)\n",
    "df"
   ]
  },
  {
   "cell_type": "code",
   "execution_count": null,
   "id": "2d9d12ad",
   "metadata": {},
   "outputs": [],
   "source": [
    "# Save to CSV\n",
    "df.to_csv(f'ntnl_rsng_tpc_{start_date}.csv')"
   ]
  },
  {
   "cell_type": "markdown",
   "id": "4eda1275",
   "metadata": {},
   "source": [
    "## Top Queries"
   ]
  },
  {
   "cell_type": "code",
   "execution_count": null,
   "id": "3d7ec706",
   "metadata": {},
   "outputs": [],
   "source": [
    "df = top_queries(keyword,start_date,region)\n",
    "df"
   ]
  },
  {
   "cell_type": "code",
   "execution_count": null,
   "id": "0fb256f0",
   "metadata": {},
   "outputs": [],
   "source": [
    "# Save to CSV\n",
    "df.to_csv(f'ntnl_tp_qurry_{start_date}.csv')"
   ]
  },
  {
   "cell_type": "markdown",
   "id": "0d78a442",
   "metadata": {},
   "source": [
    "## Top Topics"
   ]
  },
  {
   "cell_type": "code",
   "execution_count": null,
   "id": "0a874c34",
   "metadata": {},
   "outputs": [],
   "source": [
    "df = top_topics(keyword,start_date,region)\n",
    "df"
   ]
  },
  {
   "cell_type": "code",
   "execution_count": null,
   "id": "d3988170",
   "metadata": {},
   "outputs": [],
   "source": [
    "# Save to CSV\n",
    "df.to_csv(f'ntnl_tp_tpc_{start_date}.csv')"
   ]
  },
  {
   "cell_type": "markdown",
   "id": "3bc52ba7",
   "metadata": {},
   "source": [
    "## Provinces"
   ]
  },
  {
   "cell_type": "code",
   "execution_count": null,
   "id": "8d7eb0f5",
   "metadata": {},
   "outputs": [],
   "source": [
    "# This function works for all of the previos functions. Here's an example:\n",
    "df = provinces_rising_q()\n",
    "df"
   ]
  },
  {
   "cell_type": "code",
   "execution_count": null,
   "id": "0f10d3fb",
   "metadata": {},
   "outputs": [],
   "source": [
    "# Save to CSV\n",
    "df.to_csv(f'prvnc_rsng_qurry_{start_date}.csv')"
   ]
  },
  {
   "cell_type": "code",
   "execution_count": null,
   "id": "a21e788d",
   "metadata": {},
   "outputs": [],
   "source": [
    "df = provinces_rising_t()\n",
    "df"
   ]
  },
  {
   "cell_type": "code",
   "execution_count": null,
   "id": "bea72f9d",
   "metadata": {},
   "outputs": [],
   "source": [
    "# Save to CSV\n",
    "df.to_csv(f'prvnc_rsng_tpc_{start_date}.csv')"
   ]
  },
  {
   "cell_type": "code",
   "execution_count": null,
   "id": "14bf6387",
   "metadata": {},
   "outputs": [],
   "source": [
    "df = provinces_top_q()\n",
    "df"
   ]
  },
  {
   "cell_type": "code",
   "execution_count": null,
   "id": "9c4f7191",
   "metadata": {},
   "outputs": [],
   "source": [
    "# Save to CSV\n",
    "df.to_csv(f'prvnc_tp_qurry_{start_date}.csv')"
   ]
  },
  {
   "cell_type": "code",
   "execution_count": null,
   "id": "e11a06b9",
   "metadata": {},
   "outputs": [],
   "source": [
    "df = provinces_top_t()\n",
    "df"
   ]
  },
  {
   "cell_type": "code",
   "execution_count": null,
   "id": "c2e6212c",
   "metadata": {},
   "outputs": [],
   "source": [
    "# Save to CSV\n",
    "df.to_csv(f'prvnc_tp_tpc_{start_date}.csv')"
   ]
  }
 ],
 "metadata": {
  "kernelspec": {
   "display_name": "Python 3 (ipykernel)",
   "language": "python",
   "name": "python3"
  },
  "language_info": {
   "codemirror_mode": {
    "name": "ipython",
    "version": 3
   },
   "file_extension": ".py",
   "mimetype": "text/x-python",
   "name": "python",
   "nbconvert_exporter": "python",
   "pygments_lexer": "ipython3",
   "version": "3.9.7"
  }
 },
 "nbformat": 4,
 "nbformat_minor": 5
}
