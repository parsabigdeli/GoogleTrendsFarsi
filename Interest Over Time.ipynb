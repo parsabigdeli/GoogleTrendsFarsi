{
 "cells": [
  {
   "cell_type": "code",
   "execution_count": 1,
   "id": "a2f7cbbb",
   "metadata": {},
   "outputs": [],
   "source": [
    "import pprint\n",
    "from googleapiclient.discovery import build\n",
    "import matplotlib.pyplot as plt\n",
    "import pandas as pd\n",
    "from tqdm import tqdm"
   ]
  },
  {
   "cell_type": "code",
   "execution_count": 2,
   "id": "bb9939dc",
   "metadata": {},
   "outputs": [],
   "source": [
    "def interest_over_time(keyword,start_date,end_date,region):\n",
    "    # Get interest over time:\n",
    "    response = service.getGraph(terms = keyword ,\n",
    "                              restrictions_startDate=start_date,\n",
    "                              restrictions_endDate=end_date,\n",
    "                             restrictions_geo=region).execute()\n",
    "    if not response:\n",
    "        return None\n",
    "    \n",
    "    # Cleaning data\n",
    "    cleaned_dic = list(response.values())[0][0]\n",
    "    cleaned_dic = list(cleaned_dic.values())[1]\n",
    "    points = cleaned_dic\n",
    "    # Converting to a dataest\n",
    "    df = pd.DataFrame(points)\n",
    "    \n",
    "    return df\n",
    "    \n",
    "    "
   ]
  },
  {
   "cell_type": "code",
   "execution_count": 3,
   "id": "dc51ad05",
   "metadata": {},
   "outputs": [],
   "source": [
    "def provinces_interest():\n",
    "    \n",
    "    # Create a region dictionary for provinces\n",
    "    provinces = {\n",
    "  'IR-32' : 'Alborz' \n",
    ", 'IR-03' : 'Ardabil'\n",
    ", 'IR-02' :\t'Azarbayjan-e Gharbi'\n",
    ", 'IR-01' :\t'Azarbayjan-e Sharqi'\n",
    ", 'IR-06' :\t'Bushehr'\n",
    ", 'IR-08' :\t'Chahar Mahal va Bakhtiari'\n",
    ", 'IR-04' :\t'Esfahan'\n",
    ", 'IR-14' :\t'Fars'\n",
    ", 'IR-19' :\t'Gilan'\n",
    ", 'IR-27' :\t'Golestan'\n",
    ", 'IR-24' :\t'Hamadan'\n",
    ", 'IR-23' :\t'Hormozgan'\n",
    ", 'IR-05' :\t'Ilam'\n",
    ", 'IR-15' :\t'Kerman'\n",
    ", 'IR-17' :\t'Kermanshah'\n",
    ", 'IR-29' :\t'Khorasan-e Jonubi'\n",
    ", 'IR-30' :\t'Khorasan-e Razavi'\n",
    ", 'IR-31' :\t'Khorasan-e Shomali'\n",
    ", 'IR-10' :\t'Khuzestan'\n",
    ", 'IR-18' :\t'Kohgiluyeh va Bowyer Ahmad'\n",
    ", 'IR-16' :\t'Kordestan'\n",
    ", 'IR-20' :\t'Lorestan'\n",
    ", 'IR-22' :\t'Markazi'\n",
    ", 'IR-21' :\t'Mazandaran'\n",
    ", 'IR-28' :\t'Qazvin'\n",
    ", 'IR-26' :\t'Qom'\n",
    ", 'IR-12' :\t'Semnan'\n",
    ", 'IR-13' :\t'Sistan va Baluchestan'\n",
    ", 'IR-07' :\t'Tehran'\n",
    ", 'IR-25' :\t'Yazd'\n",
    ", 'IR-11' :\t'Zanjan'\n",
    "}\n",
    "    # create a list of datasets for all of the provinces\n",
    "    province_dfs = []\n",
    "    for i in range(len(provinces)):\n",
    "        region = list(provinces.keys())[i]\n",
    "        province_dfs.append(interest_over_time(keyword,start_date,end_date,region))\n",
    "    \n",
    "    # Concatenate the data frames into a single data frame\n",
    "    merged_df = pd.concat(province_dfs, keys = list(provinces.values()))\n",
    "    #merged_df = province_dfs[0].append( province_dfs[1:])\n",
    "\n",
    "    # Reset the index to separate the province names from the date\n",
    "    merged_df = merged_df.reset_index(level=0).rename(columns={'level_0': 'Province'})\n",
    "\n",
    "\n",
    "    # Return the combined data frame\n",
    "    return  merged_df  \n",
    "    "
   ]
  },
  {
   "cell_type": "code",
   "execution_count": 4,
   "id": "044cf3c0",
   "metadata": {},
   "outputs": [],
   "source": [
    "SERVER = 'https://trends.googleapis.com'\n",
    "API_VERSION = 'v1beta'\n",
    "DISCOVERY_URL_SUFFIX = '/$discovery/rest?version=' + API_VERSION\n",
    "DISCOVERY_URL = SERVER + DISCOVERY_URL_SUFFIX\n",
    "developerKey='Place your API Key in here'"
   ]
  },
  {
   "cell_type": "code",
   "execution_count": 5,
   "id": "604b82e6",
   "metadata": {},
   "outputs": [],
   "source": [
    "service = build('trends', 'v1beta',\n",
    "                  developerKey=developerKey,\n",
    "                  discoveryServiceUrl=DISCOVERY_URL)"
   ]
  },
  {
   "cell_type": "code",
   "execution_count": 6,
   "id": "b35a8a85",
   "metadata": {},
   "outputs": [],
   "source": [
    "keywords = [# Place your search queries in here]\n",
    "\n",
    "\n",
    "# In case you don't have a keyword, just leave the '' empty.\n",
    "start_date = '2023-02'\n",
    "end_date = ''\n",
    "# In case the end date is today, just leave the '' empty.\n",
    "    # If your time filter is larger than 90 days, it will give you weekly results instead of daily\n",
    " # Geo takes any of the values depicted here:\n",
    "  #   http://en.wikipedia.org/wiki/ISO_3166-2#Current_codes\n",
    "  # For Iran's provinces : http://www.statoids.com/uir.html\n",
    "region = 'IR'\n"
   ]
  },
  {
   "cell_type": "code",
   "execution_count": 7,
   "id": "3bfa13f3",
   "metadata": {},
   "outputs": [
    {
     "name": "stderr",
     "output_type": "stream",
     "text": [
      "100%|██████████████████████████████████████████████████████████████████████████████████| 28/28 [00:39<00:00,  1.41s/it]\n"
     ]
    }
   ],
   "source": [
    "for keyword in tqdm(keywords):\n",
    "    keyword = keyword\n",
    "    df = interest_over_time(keyword,start_date,end_date,region)\n",
    "    if df is None:\n",
    "        print(keyword)\n",
    "        continue\n",
    "    df.to_csv(f'{keyword}_ntnl_intrst_{start_date}.csv')\n",
    "    #df.to_csv(f'{keyword}_ntnl_intrst_wkly.csv')\n",
    "    #df1 = provinces_interest()\n",
    "    #df1.to_csv(f'{keyword}_prvnc_intrst_{start_date}.csv')\n",
    "    "
   ]
  },
  {
   "cell_type": "code",
   "execution_count": 8,
   "id": "e4a84294",
   "metadata": {},
   "outputs": [],
   "source": [
    "all_keywords = '+'.join(keywords)"
   ]
  },
  {
   "cell_type": "code",
   "execution_count": 9,
   "id": "43e76a0f",
   "metadata": {},
   "outputs": [],
   "source": [
    "df2 = interest_over_time(all_keywords,start_date,end_date,region)\n",
    "#df2.to_csv(f'all_keywords_ntnl_intrst_{start_date}.csv')\n",
    "df2.to_csv(f'all_keywords_ntnl_intrst_wkly.csv')"
   ]
  },
  {
   "cell_type": "code",
   "execution_count": 10,
   "id": "e75abddc",
   "metadata": {},
   "outputs": [],
   "source": [
    "# You can give it a list of start and end dates to collect data with different time filters\n",
    "dates = ['2023-02']\n",
    "end_dates= ['2023-03']"
   ]
  },
  {
   "cell_type": "code",
   "execution_count": 11,
   "id": "cac3fb13",
   "metadata": {},
   "outputs": [
    {
     "name": "stderr",
     "output_type": "stream",
     "text": [
      "100%|██████████████████████████████████████████████████████████████████████████████████| 28/28 [00:19<00:00,  1.45it/s]\n"
     ]
    }
   ],
   "source": [
    "\n",
    "for keyword in tqdm(keywords):\n",
    "    keyword = keyword\n",
    "    for i in range(len(dates)):\n",
    "        start_date = dates[i]\n",
    "        end_date =end_dates[i]\n",
    "        df = interest_over_time(keyword,start_date,end_date,region)\n",
    "        df.to_csv(f'{keyword}_ntnl_intrst_{start_date}.csv')\n",
    "    \n",
    "        #df1 = provinces_interest()\n",
    "        #df1.to_csv(f'{keyword}_prvnc_intrst_{start_date}.csv')\n",
    "    \n"
   ]
  },
  {
   "cell_type": "code",
   "execution_count": 12,
   "id": "e70addb7",
   "metadata": {},
   "outputs": [],
   "source": [
    "# Export as a .CSV file\n",
    "for i in range(len(dates)):\n",
    "        start_date = dates[i]\n",
    "        end_date =end_dates[i]\n",
    "        df2 = interest_over_time(all_keywords,start_date,end_date,region)\n",
    "        df2.to_csv(f'all_keywords_ntnl_intrst_{start_date}.csv')\n",
    "        "
   ]
  },
  {
   "cell_type": "code",
   "execution_count": null,
   "id": "b3b7b084",
   "metadata": {},
   "outputs": [],
   "source": []
  }
 ],
 "metadata": {
  "kernelspec": {
   "display_name": "Python 3 (ipykernel)",
   "language": "python",
   "name": "python3"
  },
  "language_info": {
   "codemirror_mode": {
    "name": "ipython",
    "version": 3
   },
   "file_extension": ".py",
   "mimetype": "text/x-python",
   "name": "python",
   "nbconvert_exporter": "python",
   "pygments_lexer": "ipython3",
   "version": "3.9.7"
  }
 },
 "nbformat": 4,
 "nbformat_minor": 5
}
